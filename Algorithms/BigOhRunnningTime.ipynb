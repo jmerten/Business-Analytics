{
 "cells": [
  {
   "cell_type": "markdown",
   "metadata": {},
   "source": [
    "# Running Time Computation Examples\n",
    "\n",
    "Let's use the code below to begin our investigation in the computation of algorithm running time.\n",
    "\n",
    "Some of the lists will contain random numbers and so we will need to, first, import the random package."
   ]
  },
  {
   "cell_type": "code",
   "execution_count": 2,
   "metadata": {
    "collapsed": true
   },
   "outputs": [],
   "source": [
    "import random"
   ]
  },
  {
   "cell_type": "markdown",
   "metadata": {},
   "source": [
    "## Example 1: A for Loop\n",
    "\n",
    "How many calculations are required below to sum n elements in a list/array once the array is created?  The algebraic variable n should appear in your answer."
   ]
  },
  {
   "cell_type": "code",
   "execution_count": 2,
   "metadata": {},
   "outputs": [
    {
     "name": "stdout",
     "output_type": "stream",
     "text": [
      "1.788507017739252\n"
     ]
    }
   ],
   "source": [
    "n = 3\n",
    "array = [random.random() for i in range(n)]\n",
    "mySum = 0\n",
    "for element in array:\n",
    "    mySum += element\n",
    "print(mySum)"
   ]
  },
  {
   "cell_type": "markdown",
   "metadata": {},
   "source": [
    "Running time = $n+3 \\approx n$\n",
    "\n",
    "Running time = $n$\n",
    "\n",
    "Running time = $O \\left(n\\right)$\n",
    "\n",
    "Running time = $2n+2  = O \\left(n\\right)$"
   ]
  },
  {
   "cell_type": "markdown",
   "metadata": {},
   "source": [
    "## Example 2: Two Nested for Loops\n",
    "How many calculations are required below to sum n elements in the two-dimensional, n-by-n, list/array below once the array is created?  The algebraic variable n should appear in your answer."
   ]
  },
  {
   "cell_type": "code",
   "execution_count": 4,
   "metadata": {},
   "outputs": [
    {
     "name": "stdout",
     "output_type": "stream",
     "text": [
      "4.668214528562964\n"
     ]
    }
   ],
   "source": [
    "array = [[random.random() for i in range(n)] for j in range(n)]\n",
    "mySum = 0\n",
    "for row in array:\n",
    "    for element in row:\n",
    "        mySum += element\n",
    "print(mySum)"
   ]
  },
  {
   "cell_type": "markdown",
   "metadata": {},
   "source": [
    "Running Time = $n^2$"
   ]
  },
  {
   "cell_type": "markdown",
   "metadata": {
    "collapsed": true
   },
   "source": [
    "## Example 3: Three Nexted for Loops\n",
    "How many calculations are required below to multiply two _n_-by-_n_ matrices, not counting the initital statemetns required to establish the matrices? The algebraic variable _n_ should appear in your answer."
   ]
  },
  {
   "cell_type": "code",
   "execution_count": 4,
   "metadata": {
    "scrolled": true
   },
   "outputs": [
    {
     "name": "stdout",
     "output_type": "stream",
     "text": [
      "[[0.8809704666004916, 0.3763407633338972, 0.7321757140449352], [0.26294481415425164, 0.9117705729190355, 0.5923608868289681], [0.09746999084534602, 0.9221718599213828, 0.367116836651051]]\n",
      "[[0.8809704666004916, 0.3763407633338972, 0.7321757140449352], [0.26294481415425164, 0.9117705729190355, 0.5923608868289681], [0.09746999084534602, 0.9221718599213828, 0.367116836651051]]\n"
     ]
    }
   ],
   "source": [
    "n = 3\n",
    "A = [[random.random() for i in range(n)] for j in range(n)]\n",
    "I = [[1,0,0],[0,1,0],[0,0,1]]\n",
    "AI = [[0 for i in range(n)] for j in range(n)]\n",
    "\n",
    "for i in range(len(AI)):\n",
    "    for j in range(len(AI[0])):\n",
    "        for k in range(n):\n",
    "            AI[i][j] += A[i][k] * I[k][j]\n",
    "\n",
    "print(A)\n",
    "print(AI)"
   ]
  },
  {
   "cell_type": "markdown",
   "metadata": {},
   "source": [
    "Running Time = $n^3$"
   ]
  },
  {
   "cell_type": "markdown",
   "metadata": {},
   "source": [
    "Running Time = $\\left( n-1 \\right)\\left( n-1 \\right) = n^2 -2n +1$\n",
    "\n",
    "Running Time = $\\left( n-1 \\right)\\left( n-1 \\right) = n^2 -2n +1 = O \\left( n^2 \\right)$"
   ]
  },
  {
   "cell_type": "code",
   "execution_count": 2,
   "metadata": {
    "collapsed": true
   },
   "outputs": [],
   "source": [
    "import math\n",
    "import matplotlib.pyplot as plt\n",
    "%matplotlib inline"
   ]
  },
  {
   "cell_type": "code",
   "execution_count": 29,
   "metadata": {},
   "outputs": [
    {
     "data": {
      "image/png": "[encoded data removed]",
      "text/plain": [
       "<Figure size 432x288 with 1 Axes>"
      ]
     },
     "metadata": {},
     "output_type": "display_data"
    }
   ],
   "source": [
    "x = [1,10.0,20.0,30.0,40.0,50.0]\n",
    "y_n = [i for i in x]\n",
    "y_logn = [math.log(i,2.0) for i in x]\n",
    "y_nlogn = [i*math.log(i,2) for i in x]\n",
    "y_n2 = [i**2 for i in x]\n",
    "\n",
    "fig,ax = plt.subplots()\n",
    "ax.plot(x,y_logn,'k')\n",
    "ax.plot(x,y_n,'r')\n",
    "ax.plot(x,y_nlogn,'b')\n",
    "ax.plot(x,y_n2,'g')\n",
    "ax.text(51,-50,r'$log(n)$',fontsize=12, color='k',verticalalignment='center',horizontalalignment='left',fontname='Times New Roman')\n",
    "ax.text(51,65,r'$n$',fontsize=12, color='r',verticalalignment='center',horizontalalignment='left',fontname='Times New Roman')\n",
    "ax.text(51,275,r'$nlog(n)$',fontsize=12, color='b',verticalalignment='center',horizontalalignment='left',fontname='Times New Roman')\n",
    "ax.text(51,2520,r'$n^2$',fontsize=12, color='g',verticalalignment='center',horizontalalignment='left',fontname='Times New Roman')\n",
    "\n",
    "ax.spines['top'].set_visible(False)\n",
    "ax.spines['right'].set_visible(False)\n",
    "ax.set_xlabel('$n$',fontsize='14',fontname='Times New Roman')\n",
    "ax.set_ylabel('Running Time',fontsize='14',fontname='Times New Roman')\n",
    "\n",
    "fig.savefig('rtSmall.jpg',dpi=1000)"
   ]
  },
  {
   "cell_type": "code",
   "execution_count": 11,
   "metadata": {},
   "outputs": [
    {
     "data": {
      "image/png": "[encoded data removed]",
      "text/plain": [
       "<Figure size 432x288 with 1 Axes>"
      ]
     },
     "metadata": {},
     "output_type": "display_data"
    }
   ],
   "source": [
    "x = [1.0,100.0,200.0,300.0,400.0,500.0,600.0,700.0,800.0,900.0,1000.0]\n",
    "y_n = [i for i in x]\n",
    "y_logn = [math.log(i,2.0) for i in x]\n",
    "y_nlogn = [i*math.log(i,2.0) for i in x]\n",
    "y_n2 = [i**2 for i in x]\n",
    "\n",
    "fig,ax = plt.subplots()\n",
    "ax.plot(x,y_logn,'k')\n",
    "ax.plot(x,y_n,'r')\n",
    "ax.plot(x,y_nlogn,'b')\n",
    "ax.plot(x,y_n2,'g')\n",
    "\n",
    "ax.spines['top'].set_visible(False)\n",
    "ax.spines['right'].set_visible(False)\n",
    "ax.set_xlabel(r'$\\mathrm{n}$',fontsize='14')\n",
    "ax.set_ylabel('Running Time',fontsize='14',fontname='Times New Roman')\n",
    "ax.set_ylim(bottom=-100000,top=1100000)\n",
    "ax.text(1002,-50000,r'$\\mathrm{log(n)}$',fontsize=12, color='k',verticalalignment='center',horizontalalignment='left')\n",
    "ax.text(1002,0,r'$n$',fontsize=12, color='r',verticalalignment='center',horizontalalignment='left')\n",
    "ax.text(1002,50000,r'$nlog(n)$',fontsize=12, color='b',verticalalignment='center',horizontalalignment='left')\n",
    "ax.text(1002,1010000,r'$n^2$',fontsize=12, color='g',verticalalignment='center',horizontalalignment='left')\n",
    "\n",
    "fig.savefig('rtLarge.jpg',dpi=1000)"
   ]
  },
  {
   "cell_type": "code",
   "execution_count": null,
   "metadata": {
    "collapsed": true
   },
   "outputs": [],
   "source": []
  }
 ],
 "metadata": {
  "kernelspec": {
   "display_name": "Python 3",
   "language": "python",
   "name": "python3"
  },
  "language_info": {
   "codemirror_mode": {
    "name": "ipython",
    "version": 3
   },
   "file_extension": ".py",
   "mimetype": "text/x-python",
   "name": "python",
   "nbconvert_exporter": "python",
   "pygments_lexer": "ipython3",
   "version": "3.6.3"
  }
 },
 "nbformat": 4,
 "nbformat_minor": 2
}
